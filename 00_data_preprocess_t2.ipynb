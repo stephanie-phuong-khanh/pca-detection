{
 "cells": [
  {
   "cell_type": "code",
   "execution_count": 1,
   "metadata": {},
   "outputs": [],
   "source": [
    "import matplotlib.pyplot as plt\n",
    "import matplotlib.patches as patches\n",
    "from matplotlib.patches import Rectangle\n",
    "import pydicom\n",
    "from pydicom.data import get_testdata_files\n",
    "import imageio\n",
    "import cv2\n",
    "from PIL import Image\n",
    "import numpy as np\n",
    "import os"
   ]
  },
  {
   "cell_type": "code",
   "execution_count": 2,
   "metadata": {},
   "outputs": [],
   "source": [
    "patient_count = 345\n",
    "bmp_lesions = []\n",
    "\n",
    "for patient_num in range(patient_count+1):\n",
    "    patient_string = 'Prostatex0{0:0=3d}'.format(patient_num)\n",
    "    bmp_dirname = 'data/ProstateX_Kyung_lesion_mask/{}/'.format(patient_string)\n",
    "    if not os.path.exists(bmp_dirname):\n",
    "        continue\n",
    "    for bmp_filename in os.listdir(bmp_dirname):\n",
    "        root, ext = os.path.splitext(bmp_filename)\n",
    "        if 't2' in root and ext == '.bmp':\n",
    "            lesion_dirname = 'data/ProstateX_Lesion_Seg/{}/study/{}/'.format(patient_string, bmp_filename.split('+')[1])\n",
    "            for lesion_filename in os.listdir(lesion_dirname):\n",
    "                root, ext = os.path.splitext(lesion_filename)\n",
    "                if root.startswith(bmp_filename[:12]) and ext == '.dcm':\n",
    "                    bmp_lesions.append((lesion_dirname+lesion_filename, bmp_dirname+bmp_filename, patient_string))\n",
    "#                     print((lesion_dirname+lesion_filename, bmp_dirname+bmp_filename, patient_string))"
   ]
  },
  {
   "cell_type": "code",
   "execution_count": 3,
   "metadata": {},
   "outputs": [],
   "source": [
    "def print_dicom(dataset, filename):\n",
    "    print()\n",
    "    print(\"Filename.........:\", filename)\n",
    "    pat_name = dataset.PatientName\n",
    "    display_name = pat_name.family_name + \", \" + pat_name.given_name\n",
    "    print(\"Patient's name...:\", display_name)\n",
    "    print(\"Patient id.......:\", dataset.PatientID)\n",
    "    print(\"Modality.........:\", dataset.Modality)\n",
    "    print(\"Study Date.......:\", dataset.StudyDate)\n",
    "    if 'PixelData' in dataset:\n",
    "        rows = int(dataset.Rows)\n",
    "        cols = int(dataset.Columns)\n",
    "        print(\"Image size.......: {rows:d} x {cols:d}, {size:d} bytes\".format(rows=rows, cols=cols, size=len(dataset.PixelData)))\n",
    "    # plot the image using matplotlib\n",
    "    im = dataset.pixel_array\n",
    "    plt.imshow(im, cmap=plt.cm.bone)\n",
    "    plt.show()\n",
    "    return im\n",
    "\n",
    "# for info in bmp_lesions:\n",
    "#     dicom = pydicom.dcmread(info[0])\n",
    "#     print_dicom(dicom, info[0])"
   ]
  },
  {
   "cell_type": "code",
   "execution_count": 4,
   "metadata": {},
   "outputs": [],
   "source": [
    "def apply_mask(dicom, bmp):\n",
    "    applied_mask = bmp * dicom_im\n",
    "    plt.imshow(applied_mask, cmap=plt.cm.bone)\n",
    "    plt.show()\n",
    "    "
   ]
  },
  {
   "cell_type": "code",
   "execution_count": 5,
   "metadata": {},
   "outputs": [],
   "source": [
    "def outline_lesion(im, bmp):\n",
    "#     plt.imshow(im, cmap=plt.cm.bone)\n",
    "    ax = plt.gca()\n",
    "\n",
    "    # Contours\n",
    "    contours, hierarchy = cv2.findContours(image = bmp, mode = cv2.RETR_TREE, method = cv2.CHAIN_APPROX_SIMPLE)\n",
    "    contours = sorted(contours, key = cv2.contourArea, reverse = True)\n",
    "    c_0 = contours[0] \n",
    "\n",
    "    # Get the current reference\n",
    "    x, y, w, h = cv2.boundingRect(c_0)   \n",
    "    rect = Rectangle((x, y),w,h,linewidth=1,edgecolor='r',facecolor='none')\n",
    "    ax.add_patch(rect)\n",
    "\n",
    "    # Outermost square is 1.4 times the longer rectangle length\n",
    "    s = max(w, h)*1.4\n",
    "    s_x = x-(s-w)/2\n",
    "    s_y = y-(s-h)/2\n",
    "    square = Rectangle((s_x, s_y),s,s,linewidth=1,edgecolor='y',facecolor='none')\n",
    "    ax.add_patch(square)\n",
    "\n",
    "#     plt.show()\n",
    "    return (s_x, s_y, s)\n",
    "\n",
    "# for info in bmp_lesions:\n",
    "#     dicom = pydicom.dcmread(info[0])\n",
    "#     bmp = imageio.imread(info[1])\n",
    "#     dicom_im = dicom.pixel_array\n",
    "#     outline_lesion(dicom_im, bmp)"
   ]
  },
  {
   "cell_type": "code",
   "execution_count": 6,
   "metadata": {},
   "outputs": [],
   "source": [
    "def crop_lesion(im, bmp):\n",
    "    pair = outline_lesion(im, bmp)\n",
    "    s_x = round(pair[0])\n",
    "    s_y = round(pair[1])\n",
    "    s = round(pair[2])\n",
    "    im_crop = im[s_y:s_y+s , s_x:s_x+s]\n",
    "    return im_crop"
   ]
  },
  {
   "cell_type": "code",
   "execution_count": 19,
   "metadata": {},
   "outputs": [],
   "source": [
    "# Normalize the images' intensity\n",
    "avg_intensities = []\n",
    "\n",
    "def normalize(arr, dicom):\n",
    "    minval = float(arr.min())\n",
    "    maxval = float(arr.max())\n",
    "    maxval_dicom = float(dicom.max())\n",
    "    if maxval_dicom > maxval:\n",
    "        maxval = maxval_dicom\n",
    "    ran = maxval - minval\n",
    "    if ran == 0:\n",
    "        return None\n",
    "    normalized = (arr - minval) / ran * 255\n",
    "    avg_intensities.append(np.mean(normalized.flatten()))\n",
    "    return normalized\n",
    "        "
   ]
  },
  {
   "cell_type": "code",
   "execution_count": 21,
   "metadata": {},
   "outputs": [
    {
     "name": "stdout",
     "output_type": "stream",
     "text": [
      "Average: 59.687047999763045\n",
      "Min: 13.153852854073516\n",
      "Max: 109.73524541440217\n"
     ]
    },
    {
     "data": {
      "image/png": "[encoded data removed]",
      "text/plain": [
       "<Figure size 432x288 with 1 Axes>"
      ]
     },
     "metadata": {
      "needs_background": "light"
     },
     "output_type": "display_data"
    }
   ],
   "source": [
    "lesions_cropped = []\n",
    "\n",
    "for info in bmp_lesions:\n",
    "    dicom = pydicom.dcmread(info[0])\n",
    "    bmp = imageio.imread(info[1])\n",
    "    dicom_im = dicom.pixel_array\n",
    "    \n",
    "    im_cropped = crop_lesion(dicom_im, bmp)\n",
    "    img_norm = normalize(im_cropped, dicom_im)\n",
    "    if isinstance(img_norm,np.ndarray):  \n",
    "        end_name = (os.path.splitext(info[1])[0]).split('/')[-1]\n",
    "        name = info[2] + '+T2+' + end_name.split('+')[2]\n",
    "#         np.save('data_preprocessed/t2_npy/{}.npy'.format(name), im_cropped)\n",
    "#         plt.imshow(img, cmap='gray')\n",
    "#         plt.show()\n",
    "\n",
    "print('Average:', np.average(avg_intensities))\n",
    "print('Min:', min(avg_intensities))\n",
    "print('Max:', max(avg_intensities))"
   ]
  },
  {
   "cell_type": "code",
   "execution_count": 8,
   "metadata": {},
   "outputs": [],
   "source": []
  }
 ],
 "metadata": {
  "kernelspec": {
   "display_name": "Python 3",
   "language": "python",
   "name": "python3"
  },
  "language_info": {
   "codemirror_mode": {
    "name": "ipython",
    "version": 3
   },
   "file_extension": ".py",
   "mimetype": "text/x-python",
   "name": "python",
   "nbconvert_exporter": "python",
   "pygments_lexer": "ipython3",
   "version": "3.5.2"
  }
 },
 "nbformat": 4,
 "nbformat_minor": 4
}
