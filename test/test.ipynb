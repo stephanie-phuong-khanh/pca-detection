{
 "cells": [
  {
   "cell_type": "code",
   "execution_count": 114,
   "metadata": {},
   "outputs": [],
   "source": [
    "import os\n",
    "import cv2\n",
    "import random\n",
    "import numpy as np\n",
    "from collections import Counter\n",
    "from sklearn.utils import shuffle\n",
    "from sklearn.preprocessing import LabelBinarizer\n",
    "from sklearn.preprocessing import MinMaxScaler\n",
    "from sklearn.model_selection import train_test_split, StratifiedKFold\n",
    "from PIL import Image\n",
    "import matplotlib.pyplot as plt\n",
    "import seaborn as sns\n",
    "from imblearn.over_sampling import SMOTE, SMOTENC\n",
    "import tensorflow as tf\n",
    "from tensorflow import keras\n",
    "from tensorflow.keras import Sequential, Model\n",
    "from tensorflow.keras.preprocessing.image import ImageDataGenerator\n",
    "from tensorflow.keras.applications.resnet50 import ResNet50, preprocess_input\n",
    "from tensorflow.keras.layers import Activation, Flatten, Dropout, BatchNormalization, Conv2D, AveragePooling2D, Dense"
   ]
  },
  {
   "cell_type": "code",
   "execution_count": 115,
   "metadata": {},
   "outputs": [
    {
     "name": "stdout",
     "output_type": "stream",
     "text": [
      "(4, 2, 1, 3)\n"
     ]
    },
    {
     "data": {
      "image/png": "[encoded data removed]",
      "text/plain": [
       "<Figure size 432x288 with 1 Axes>"
      ]
     },
     "metadata": {
      "needs_background": "light"
     },
     "output_type": "display_data"
    }
   ],
   "source": [
    "img = np.array([\n",
    "    [[0.6,0.5,0.7]],\n",
    "    [[0.5,0.9,0.1]]\n",
    "])\n",
    "\n",
    "img_arr = np.array([img, img, img, img])\n",
    "print(img_arr.shape)\n",
    "plt.imshow(img, cmap='gray')\n",
    "plt.show()"
   ]
  },
  {
   "cell_type": "code",
   "execution_count": 113,
   "metadata": {},
   "outputs": [
    {
     "name": "stdout",
     "output_type": "stream",
     "text": [
      "[[[[0.6 0.5 0.7]]\n",
      "\n",
      "  [[0.5 0.9 0.1]]]\n",
      "\n",
      "\n",
      " [[[0.6 0.5 0.7]]\n",
      "\n",
      "  [[0.5 0.9 0.1]]]\n",
      "\n",
      "\n",
      " [[[0.6 0.5 0.7]]\n",
      "\n",
      "  [[0.5 0.9 0.1]]]\n",
      "\n",
      "\n",
      " [[[0.6 0.5 0.7]]\n",
      "\n",
      "  [[0.5 0.9 0.1]]]]\n",
      "\n",
      "num=4, d1=2, d2=1, channels=3\n",
      "[[0.6 0.5 0.7 0.5 0.9 0.1]\n",
      " [0.6 0.5 0.7 0.5 0.9 0.1]\n",
      " [0.6 0.5 0.7 0.5 0.9 0.1]\n",
      " [0.6 0.5 0.7 0.5 0.9 0.1]]\n",
      "\n",
      "[[[[0.6 0.5 0.7]]\n",
      "\n",
      "  [[0.5 0.9 0.1]]]\n",
      "\n",
      "\n",
      " [[[0.6 0.5 0.7]]\n",
      "\n",
      "  [[0.5 0.9 0.1]]]\n",
      "\n",
      "\n",
      " [[[0.6 0.5 0.7]]\n",
      "\n",
      "  [[0.5 0.9 0.1]]]\n",
      "\n",
      "\n",
      " [[[0.6 0.5 0.7]]\n",
      "\n",
      "  [[0.5 0.9 0.1]]]]\n"
     ]
    }
   ],
   "source": [
    "print(img_arr)\n",
    "print()\n",
    "\n",
    "num, d1,d2, channels = img_arr.shape\n",
    "print(\"num={}, d1={}, d2={}, channels={}\".format(num, d1, d2, channels))\n",
    "img_arr_flat = img_arr.reshape(num, d1*d2*channels)\n",
    "print(img_arr_flat)\n",
    "print()\n",
    "\n",
    "# a.reshape(-1, 2).T.reshape(-1, 3, 4)\n",
    "# img_arr_reshaped = img_arr_flat.reshape((channels,d2,d1,num)).transpose()\n",
    "img_arr_reshaped = img_arr_flat.reshape(num, d1*d2*channels).reshape(num, d1, d2, channels)\n",
    "# img_arr_reshaped = img_arr_flat.reshape(channels,d2,d1,num).reshape(channels,d2,d1,num)\n",
    "print(img_arr_reshaped)"
   ]
  },
  {
   "cell_type": "code",
   "execution_count": 48,
   "metadata": {},
   "outputs": [
    {
     "name": "stdout",
     "output_type": "stream",
     "text": [
      "[[0.25]\n",
      " [0.25]\n",
      " [0.25]\n",
      " [0.25]\n",
      " [0.25]\n",
      " [0.25]]\n"
     ]
    }
   ],
   "source": [
    "arr = np.array([0.25,0.25,0.25,0.25,0.25,0.25])\n",
    "arr2d = arr[:, None]\n",
    "print(arr2d)"
   ]
  },
  {
   "cell_type": "code",
   "execution_count": 23,
   "metadata": {},
   "outputs": [
    {
     "ename": "ValueError",
     "evalue": "all the input arrays must have same number of dimensions, but the array at index 0 has 2 dimension(s) and the array at index 1 has 1 dimension(s)",
     "output_type": "error",
     "traceback": [
      "\u001b[0;31m---------------------------------------------------------------------------\u001b[0m",
      "\u001b[0;31mValueError\u001b[0m                                Traceback (most recent call last)",
      "\u001b[0;32m<ipython-input-23-d9d36f0ba32d>\u001b[0m in \u001b[0;36m<module>\u001b[0;34m\u001b[0m\n\u001b[0;32m----> 1\u001b[0;31m \u001b[0mres\u001b[0m \u001b[0;34m=\u001b[0m \u001b[0mnp\u001b[0m\u001b[0;34m.\u001b[0m\u001b[0mconcatenate\u001b[0m\u001b[0;34m(\u001b[0m\u001b[0;34m(\u001b[0m\u001b[0mconcat\u001b[0m\u001b[0;34m,\u001b[0m \u001b[0marr\u001b[0m\u001b[0;34m)\u001b[0m\u001b[0;34m,\u001b[0m \u001b[0;36m1\u001b[0m\u001b[0;34m)\u001b[0m\u001b[0;34m\u001b[0m\u001b[0m\n\u001b[0m\u001b[1;32m      2\u001b[0m \u001b[0mprint\u001b[0m\u001b[0;34m(\u001b[0m\u001b[0mres\u001b[0m\u001b[0;34m)\u001b[0m\u001b[0;34m\u001b[0m\u001b[0m\n",
      "\u001b[0;32m<__array_function__ internals>\u001b[0m in \u001b[0;36mconcatenate\u001b[0;34m(*args, **kwargs)\u001b[0m\n",
      "\u001b[0;31mValueError\u001b[0m: all the input arrays must have same number of dimensions, but the array at index 0 has 2 dimension(s) and the array at index 1 has 1 dimension(s)"
     ]
    }
   ],
   "source": [
    "res = np.concatenate((concat, arr), 1)\n",
    "print(res)"
   ]
  },
  {
   "cell_type": "code",
   "execution_count": 151,
   "metadata": {},
   "outputs": [
    {
     "name": "stdout",
     "output_type": "stream",
     "text": [
      "(4, 2, 1, 3)\n",
      "(4, 6)\n",
      "(4,)\n",
      "[[0.6 0.5 0.7 0.5 0.9 0.1 1. ]\n",
      " [0.6 0.5 0.7 0.5 0.9 0.1 1. ]\n",
      " [0.6 0.5 0.7 0.5 0.9 0.1 1. ]\n",
      " [0.6 0.5 0.7 0.5 0.9 0.1 1. ]]\n",
      "4\n"
     ]
    }
   ],
   "source": [
    "img = np.array([\n",
    "    [[0.6,0.5,0.7]],\n",
    "    [[0.5,0.9,0.1]]\n",
    "])\n",
    "img_arr = np.array([img, img, img, img])\n",
    "print(img_arr.shape)\n",
    "num, d1,d2, channels = img_arr.shape\n",
    "img_arr_flat = img_arr.reshape(num, d1*d2*channels)\n",
    "print(img_arr_flat.shape)\n",
    "\n",
    "columns_to_add = np.array([1,1,1,1])\n",
    "print(columns_to_add.shape)\n",
    "\n",
    "output = np.column_stack((img_arr_flat, columns_to_add))\n",
    "print(output)\n",
    "\n",
    "num = output.shape[0]\n",
    "print(num)"
   ]
  },
  {
   "cell_type": "code",
   "execution_count": 132,
   "metadata": {},
   "outputs": [
    {
     "name": "stdout",
     "output_type": "stream",
     "text": [
      "[[  1   2   3  10]\n",
      " [  4   5   6  40]\n",
      " [  7   8   9  70]\n",
      " [ 10  11  12 100]]\n",
      "\n",
      "[[ 1]\n",
      " [ 4]\n",
      " [ 7]\n",
      " [10]]\n",
      "\n",
      "[[2 3 4]\n",
      " [2 3 4]\n",
      " [2 3 4]\n",
      " [2 3 4]]\n"
     ]
    }
   ],
   "source": [
    "x_img_new = output[:,:-4]\n",
    "x_size_new = output[:,-4]\n",
    "x_zone_new = output[:,-3:]\n",
    "\n",
    "print(x_img_new)\n",
    "print()\n",
    "print(x_size_new)\n",
    "print()\n",
    "print(x_zone_new)"
   ]
  },
  {
   "cell_type": "code",
   "execution_count": null,
   "metadata": {},
   "outputs": [],
   "source": []
  }
 ],
 "metadata": {
  "kernelspec": {
   "display_name": "Python 3",
   "language": "python",
   "name": "python3"
  },
  "language_info": {
   "codemirror_mode": {
    "name": "ipython",
    "version": 3
   },
   "file_extension": ".py",
   "mimetype": "text/x-python",
   "name": "python",
   "nbconvert_exporter": "python",
   "pygments_lexer": "ipython3",
   "version": "3.5.2"
  }
 },
 "nbformat": 4,
 "nbformat_minor": 4
}
