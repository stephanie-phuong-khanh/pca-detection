{
 "cells": [
  {
   "cell_type": "code",
   "execution_count": 1,
   "metadata": {},
   "outputs": [],
   "source": [
    "import os\n",
    "import csv\n",
    "import numpy as np\n",
    "from collections import namedtuple, Counter\n",
    "import shutil\n",
    "import cv2\n",
    "import imageio\n",
    "from PIL import Image\n",
    "import tensorflow as tf\n",
    "import matplotlib.pyplot as plt\n",
    "import matplotlib.patches as patches\n",
    "from matplotlib.patches import Rectangle\n",
    "from matplotlib.pyplot import imread, imshow, subplots, show\n",
    "from tensorflow.keras.preprocessing.image import ImageDataGenerator"
   ]
  },
  {
   "cell_type": "code",
   "execution_count": 2,
   "metadata": {},
   "outputs": [
    {
     "name": "stdout",
     "output_type": "stream",
     "text": [
      "330\n"
     ]
    }
   ],
   "source": [
    "# Read in data/ProstateX-Findings-withlabel.csv to label with zone and ClinSig\n",
    "csv_info = []\n",
    "\n",
    "with open('data/ProstateX-Findings-withlabel.csv', newline='') as csvfile:\n",
    "    reader = csv.reader(csvfile, delimiter=\",\", quotechar='\"')\n",
    "    _ = next(reader)\n",
    "    for row in reader:\n",
    "        patient, fid, pos, zone , clinsig = row\n",
    "        patient = patient.split('-')[-1]\n",
    "        csv_info.append((patient, fid, zone, clinsig))\n",
    "\n",
    "print(len(csv_info))"
   ]
  },
  {
   "cell_type": "code",
   "execution_count": 7,
   "metadata": {},
   "outputs": [
    {
     "name": "stdout",
     "output_type": "stream",
     "text": [
      "318 lesions 318 patients\n"
     ]
    }
   ],
   "source": [
    "# Load preprocessed data from lesions_cropped/t2_npy and lesions_cropped/adc_npy, ressizing to 32 by 32 arrays\n",
    "# Place into pairs of t2 and adc images with their respective filenames and original side length\n",
    "\n",
    "lesions = []\n",
    "patient_list = []\n",
    "\n",
    "NamedLesion = namedtuple('NamedLesion', 'patient t2_image t2_size adc_image adc_size fid zone clinsig') \n",
    "t2_cropped = sorted(os.listdir('data_preprocessed/t2_npy'))\n",
    "adc_cropped = sorted(os.listdir('data_preprocessed/adc_npy'))\n",
    "if len(t2_cropped) != len(adc_cropped):\n",
    "    raise ValueError(\"Different numbers of images: {} T2 and {} ADC\".format(len(t2_cropped), len(adc_cropped)))\n",
    "input_size = len(t2_cropped)\n",
    "\n",
    "def find_in_csv(patient, fid):\n",
    "    if fid == 'Unnamed':\n",
    "        fid = '1'\n",
    "    for row in csv_info:\n",
    "        if row[0]==patient and row[1]==fid:\n",
    "            return (row[2], row[3]) #zone, clinsig\n",
    "\n",
    "for i in range(input_size):\n",
    "    t2_filename = 'data_preprocessed/t2_npy/' + t2_cropped[i]\n",
    "    t2_array = np.load(t2_filename, allow_pickle=True)\n",
    "    t2_img = Image.fromarray(t2_array.astype('uint8'))\n",
    "    t2_img_resized = t2_img.resize((32, 32))\n",
    "    t2_array_final = np.asarray(t2_img_resized)\n",
    "    t2_root, _ = os.path.splitext(t2_filename)\n",
    "    t2_patient, _, t2_fid = t2_root.split('/')[-1].split('+')\n",
    "    t2_patient = t2_patient[-4:]\n",
    "    \n",
    "    adc_filename = 'data_preprocessed/adc_npy/' + adc_cropped[i]\n",
    "    adc_array = np.load(adc_filename, allow_pickle=True)\n",
    "    adc_img = Image.fromarray(adc_array.astype('uint8'))\n",
    "    adc_img_resized = adc_img.resize((32, 32))\n",
    "    adc_array_final = np.asarray(adc_img_resized)\n",
    "    adc_root, _ = os.path.splitext(adc_filename)\n",
    "    adc_patient, _, adc_fid = adc_root.split('/')[-1].split('+')\n",
    "    adc_patient = adc_patient[-4:]\n",
    "    \n",
    "    if t2_patient != adc_patient or t2_fid != adc_fid:\n",
    "        print(\"Patient ({} vs {}) or FID ({} vs {}) different between T2 and ADC images\"\n",
    "              .format(t2_patient, adc_patient, t2_fid, adc_fid))\n",
    "        continue  \n",
    "    patient=t2_patient\n",
    "    fid=t2_fid\n",
    "    \n",
    "    obj = find_in_csv(patient, fid)\n",
    "    if obj is None:\n",
    "        continue\n",
    "    else:\n",
    "        zone, clinsig = obj\n",
    "    \n",
    "    lesion = NamedLesion(patient=patient,\n",
    "                         t2_image=t2_array_final, \n",
    "                         t2_size=t2_array.shape[0],\n",
    "                         adc_image=adc_array_final,\n",
    "                         adc_size=adc_array.shape[0],\n",
    "                         fid=fid,\n",
    "                         zone=zone,\n",
    "                         clinsig=clinsig\n",
    "                        )\n",
    "    \n",
    "    lesions.append(lesion)\n",
    "    patient_id = 'x'+patient\n",
    "    patient_list.append(patient_id)\n",
    "    \n",
    "#     name = 'x{}+{}'.format(lesion.patient, lesion.t2_size)\n",
    "#     print(name)\n",
    "#     f, axarr = plt.subplots(2,4)\n",
    "#     axarr[0][0].imshow(t2_array, cmap='gray')\n",
    "#     axarr[0][1].imshow(t2_img, cmap='gray')\n",
    "#     axarr[0][2].imshow(t2_img_resized, cmap='gray')\n",
    "#     axarr[0][3].imshow(lesion.t2_image, cmap='gray')\n",
    "#     axarr[1][0].imshow(adc_array, cmap='gray')\n",
    "#     axarr[1][1].imshow(adc_img, cmap='gray')\n",
    "#     axarr[1][2].imshow(adc_img_resized, cmap='gray')\n",
    "#     axarr[1][3].imshow(lesion.adc_image, cmap='gray')\n",
    "#     plt.show()\n",
    "    \n",
    "patient_nums = Counter(patient_list)\n",
    "\n",
    "print(len(lesions), \"lesions\", len(patient_list), \"patients\")"
   ]
  },
  {
   "cell_type": "code",
   "execution_count": 14,
   "metadata": {},
   "outputs": [
    {
     "data": {
      "image/png": "[encoded data removed]",
      "text/plain": [
       "<Figure size 432x288 with 1 Axes>"
      ]
     },
     "metadata": {
      "needs_background": "light"
     },
     "output_type": "display_data"
    },
    {
     "data": {
      "image/png": "[encoded data removed]",
      "text/plain": [
       "<Figure size 432x288 with 1 Axes>"
      ]
     },
     "metadata": {
      "needs_background": "light"
     },
     "output_type": "display_data"
    }
   ],
   "source": [
    "# random flipping, cropping and slightly shearing transformation to each T2 SPACE and ADC image pair to\n",
    "# increase training data variety and model robustness\n",
    "\n",
    "# https://blog.keras.io/building-powerful-image-classification-models-using-very-little-data.html\n",
    "# https://github.com/keras-team/keras/issues/3059\n",
    "\n",
    "for num, count in patient_nums.items():\n",
    "    dirname = 'data_organized/{}+{}'.format(num, count)\n",
    "    if os.path.exists(dirname):\n",
    "        shutil.rmtree(dirname)\n",
    "    os.makedirs(dirname)\n",
    "\n",
    "for lesion in lesions:\n",
    "    t2_array = lesion.t2_image\n",
    "    t2 = np.expand_dims(t2_array, axis=2)\n",
    "    t2 = t2.reshape((1,) + t2.shape)\n",
    "\n",
    "    adc_array = lesion.adc_image\n",
    "    adc = np.expand_dims(adc_array, axis=2)\n",
    "    adc = adc.reshape((1,) + adc.shape)\n",
    "\n",
    "    datagen = ImageDataGenerator(\n",
    "                    rescale=1./255,\n",
    "                    shear_range=0.2,\n",
    "                    zoom_range=[0.7,1],\n",
    "                    horizontal_flip=True,\n",
    "                    vertical_flip=True,\n",
    "                    fill_mode='nearest')\n",
    "    \n",
    "    plt.imshow(t2_array, cmap='gray')\n",
    "    plt.show()\n",
    "    plt.imshow(adc_array, cmap='gray')\n",
    "    plt.show()\n",
    "    \n",
    "#     for x, val in zip(datagen.flow(t2, save_to_dir='data_augmented', save_prefix='t2', save_format='png'), range(6)) :     # here we define a range because we want 10 augmented images otherwise it will keep looping forever I think\n",
    "#         pass\n",
    "#     for x, val in zip(datagen.flow(adc, save_to_dir='data_augmented', save_prefix='adc', save_format='png'), range(6)) :     # here we define a range because we want 10 augmented images otherwise it will keep looping forever I think\n",
    "#         pass\n",
    "    \n",
    "    break"
   ]
  },
  {
   "cell_type": "code",
   "execution_count": null,
   "metadata": {},
   "outputs": [],
   "source": []
  }
 ],
 "metadata": {
  "kernelspec": {
   "display_name": "Python 3",
   "language": "python",
   "name": "python3"
  },
  "language_info": {
   "codemirror_mode": {
    "name": "ipython",
    "version": 3
   },
   "file_extension": ".py",
   "mimetype": "text/x-python",
   "name": "python",
   "nbconvert_exporter": "python",
   "pygments_lexer": "ipython3",
   "version": "3.7.6"
  }
 },
 "nbformat": 4,
 "nbformat_minor": 4
}
