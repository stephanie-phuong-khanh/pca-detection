{
 "cells": [
  {
   "cell_type": "code",
   "execution_count": 9,
   "metadata": {},
   "outputs": [],
   "source": [
    "import matplotlib.pyplot as plt\n",
    "import matplotlib.patches as patches\n",
    "from matplotlib.patches import Rectangle\n",
    "import imageio\n",
    "import cv2\n",
    "from PIL import Image\n",
    "import numpy as np\n",
    "import os\n"
   ]
  },
  {
   "cell_type": "code",
   "execution_count": 88,
   "metadata": {},
   "outputs": [
    {
     "name": "stdout",
     "output_type": "stream",
     "text": [
      "42.67300380228137\n",
      "10.38212927756654\n"
     ]
    }
   ],
   "source": [
    "t2_cropped = []\n",
    "adc_cropped = []\n",
    "\n",
    "t2_size = []\n",
    "adc_size = []\n",
    "\n",
    "for file in os.listdir('lesions_cropped/t2_npy'):\n",
    "    filename = 'lesions_cropped/t2_npy/' + file\n",
    "    img = np.load(filename, allow_pickle=True)\n",
    "    t2_size.append(img.shape)\n",
    "    t2_cropped.append((filename, img))\n",
    "\n",
    "for file in os.listdir('lesions_cropped/adc_npy'):\n",
    "    filename = 'lesions_cropped/adc_npy/' + file\n",
    "    img = np.load(filename, allow_pickle=True)\n",
    "    adc_size.append(img.shape)\n",
    "    adc_cropped.append((filename, img))\n",
    "\n",
    "print(np.average(t2_size))\n",
    "print(np.average(adc_size))"
   ]
  },
  {
   "cell_type": "code",
   "execution_count": null,
   "metadata": {},
   "outputs": [],
   "source": [
    "# Normalize: Each image patch was normalized to pixel intensity of 0–255 before fed into the DTL based model\n",
    "\n",
    "# The image normalization of T2 SPACE was based on the maximum value within a rough contour of normal\n",
    "# prostate tissue defined on each patient.\n",
    "\n",
    "# For quantitative ADC images, we set an empirical intensity upper bound of 4000 to filter extreme\n",
    "# values before normalization to maintain the distribution of ADC values within and among cases\n",
    "\n",
    "t2_normalized = []\n",
    "adc_normalized = []\n",
    "\n",
    "def upper_bound(arr, limit):\n",
    "    for row in arr:\n",
    "        for item in row:\n",
    "            if item > 4000:\n",
    "                print('wtf')\n",
    "                arr[row][item] = 4000\n",
    "    return arr\n",
    "\n",
    "def normalize(arr, name):\n",
    "    minval = float(arr.min())\n",
    "    maxval = float(arr.max())\n",
    "    ran = maxval - minval\n",
    "    if ran == 0:\n",
    "        return None\n",
    "    return (arr - minval) / ran * 255\n",
    "\n",
    "for item in adc_cropped:\n",
    "    img = item[1]\n",
    "    img_bound = upper_bound(img, 4000)\n",
    "    img_norm = normalize(img_bound, item[0])\n",
    "    if isinstance(img_norm,np.ndarray):\n",
    "        adc_normalized.append(img_norm)\n",
    "    plt.imshow(img_norm, cmap='gray')\n",
    "    plt.show()\n",
    "        #print('Min: %.3f, Max: %.3f' % (img_norm.min(), img_norm.max()))\n",
    "    \n",
    "    \n",
    "for item in t2_cropped:\n",
    "    img = item[1]\n",
    "    img_norm = normalize(img, item[0])\n",
    "    if isinstance(img_norm,np.ndarray):\n",
    "        t2_normalized.append(img_norm)\n",
    "        #plt.imshow(pixels, cmap='gray')\n",
    "        #print('Min: %.3f, Max: %.3f' % (img_norm.min(), img_norm.max()))"
   ]
  },
  {
   "cell_type": "code",
   "execution_count": null,
   "metadata": {},
   "outputs": [],
   "source": []
  }
 ],
 "metadata": {
  "kernelspec": {
   "display_name": "Python 3",
   "language": "python",
   "name": "python3"
  },
  "language_info": {
   "codemirror_mode": {
    "name": "ipython",
    "version": 3
   },
   "file_extension": ".py",
   "mimetype": "text/x-python",
   "name": "python",
   "nbconvert_exporter": "python",
   "pygments_lexer": "ipython3",
   "version": "3.5.2"
  }
 },
 "nbformat": 4,
 "nbformat_minor": 4
}
