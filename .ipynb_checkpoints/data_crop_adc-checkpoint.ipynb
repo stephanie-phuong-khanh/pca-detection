{
 "cells": [
  {
   "cell_type": "code",
   "execution_count": null,
   "metadata": {},
   "outputs": [],
   "source": [
    "import matplotlib.pyplot as plt\n",
    "import matplotlib.patches as patches\n",
    "from matplotlib.patches import Rectangle\n",
    "import pydicom\n",
    "from pydicom.data import get_testdata_files\n",
    "import imageio\n",
    "import cv2\n",
    "from PIL import Image\n",
    "import os"
   ]
  },
  {
   "cell_type": "code",
   "execution_count": null,
   "metadata": {},
   "outputs": [],
   "source": [
    "patient_count = 345\n",
    "bmp_lesions = []\n",
    "\n",
    "for patient_num in range(patient_count+1):\n",
    "    patient_string = 'Prostatex0{0:0=3d}'.format(patient_num)\n",
    "    bmp_dirname = 'data/ProstateX_Kyung_lesion_mask/{}/'.format(patient_string)\n",
    "    if not os.path.exists(bmp_dirname):\n",
    "        continue\n",
    "    for bmp_filename in os.listdir(bmp_dirname):\n",
    "        root, ext = os.path.splitext(bmp_filename)\n",
    "        if 'ADC' in root and ext == '.bmp':\n",
    "            lesion_dirname = 'data/ProstateX_Lesion_Seg/{}/study/{}/'.format(patient_string, bmp_filename.split('+')[1])\n",
    "            for lesion_filename in os.listdir(lesion_dirname):\n",
    "                root, ext = os.path.splitext(lesion_filename)\n",
    "                if root.startswith(bmp_filename[:12]) and ext == '.dcm':\n",
    "                    bmp_lesions.append((lesion_dirname+lesion_filename, bmp_dirname+bmp_filename))\n"
   ]
  },
  {
   "cell_type": "code",
   "execution_count": null,
   "metadata": {},
   "outputs": [],
   "source": [
    "def print_dicom(dicom):\n",
    "    print()\n",
    "    print(\"Filename.........:\", filename)\n",
    "    pat_name = dataset.PatientName\n",
    "    display_name = pat_name.family_name + \", \" + pat_name.given_name\n",
    "    print(\"Patient's name...:\", display_name)\n",
    "    print(\"Patient id.......:\", dataset.PatientID)\n",
    "    print(\"Modality.........:\", dataset.Modality)\n",
    "    print(\"Study Date.......:\", dataset.StudyDate)\n",
    "    if 'PixelData' in dataset:\n",
    "        rows = int(dataset.Rows)\n",
    "        cols = int(dataset.Columns)\n",
    "        print(\"Image size.......: {rows:d} x {cols:d}, {size:d} bytes\".format(\n",
    "            rows=rows, cols=cols, size=len(dataset.PixelData)))\n",
    "    # plot the image using matplotlib\n",
    "    im = dataset.pixel_array\n",
    "    plt.imshow(im, cmap=plt.cm.bone)\n",
    "    plt.show()\n",
    "    return im"
   ]
  },
  {
   "cell_type": "code",
   "execution_count": null,
   "metadata": {},
   "outputs": [],
   "source": [
    "def apply_mask(dicom, bmp):\n",
    "    applied_mask = bmp * dicom_im\n",
    "    plt.imshow(applied_mask, cmap=plt.cm.bone)\n",
    "    plt.show()\n",
    "    "
   ]
  },
  {
   "cell_type": "code",
   "execution_count": null,
   "metadata": {},
   "outputs": [],
   "source": [
    "def crop_lesions(im, bmp):\n",
    "    plt.imshow(im, cmap=plt.cm.bone)\n",
    "    ax = plt.gca()\n",
    "\n",
    "    # Contours\n",
    "    contours, hierarchy = cv2.findContours(image = bmp, mode = cv2.RETR_TREE, method = cv2.CHAIN_APPROX_SIMPLE)\n",
    "    contours = sorted(contours, key = cv2.contourArea, reverse = True)\n",
    "    c_0 = contours[0] \n",
    "\n",
    "    # Get the current reference\n",
    "    x, y, w, h = cv2.boundingRect(c_0)   \n",
    "    rect = Rectangle((x, y),w,h,linewidth=1,edgecolor='r',facecolor='none')\n",
    "    ax.add_patch(rect)\n",
    "\n",
    "    # Outermost square is 1.4 times the longer rectangle length\n",
    "    s = max(w, h)*1.4\n",
    "    s_x = x-(s-w)/2\n",
    "    s_y = y-(s-h)/2\n",
    "    square = Rectangle((s_x, s_y),s,s,linewidth=1,edgecolor='y',facecolor='none')\n",
    "    ax.add_patch(square)\n",
    "\n",
    "    plt.show()"
   ]
  },
  {
   "cell_type": "code",
   "execution_count": null,
   "metadata": {},
   "outputs": [],
   "source": [
    "print(bmp_lesions)\n",
    "for pair in bmp_lesions:\n",
    "    dicom = pydicom.dcmread(pair[0])\n",
    "    bmp = imageio.imread(pair[1])\n",
    "    dicom_im = dicom.pixel_array\n",
    "    crop_lesions(dicom_im, bmp)"
   ]
  },
  {
   "cell_type": "code",
   "execution_count": 23,
   "metadata": {},
   "outputs": [
    {
     "data": {
      "image/png": "[encoded data removed]",
      "text/plain": [
       "<Figure size 432x288 with 1 Axes>"
      ]
     },
     "metadata": {
      "needs_background": "light"
     },
     "output_type": "display_data"
    },
    {
     "name": "stdout",
     "output_type": "stream",
     "text": [
      "(18, 18)\n"
     ]
    }
   ],
   "source": [
    "# Crop image as square\n",
    "s_y = round(s_y)\n",
    "s_x = round(s_x)\n",
    "s = round(s)\n",
    "im_crop = im[s_y:s_y+s , s_x:s_x+s]\n",
    "plt.imshow(im_crop, cmap='gray')\n",
    "plt.show()\n",
    "plt.savefig('lesions_cropped/cropped_ADC_0000_IM-0003-0010.png')\n",
    "print(im_crop.shape)"
   ]
  },
  {
   "cell_type": "code",
   "execution_count": null,
   "metadata": {},
   "outputs": [],
   "source": []
  }
 ],
 "metadata": {
  "kernelspec": {
   "display_name": "Python 3",
   "language": "python",
   "name": "python3"
  },
  "language_info": {
   "codemirror_mode": {
    "name": "ipython",
    "version": 3
   },
   "file_extension": ".py",
   "mimetype": "text/x-python",
   "name": "python",
   "nbconvert_exporter": "python",
   "pygments_lexer": "ipython3",
   "version": "3.5.2"
  }
 },
 "nbformat": 4,
 "nbformat_minor": 4
}
