{
 "cells": [
  {
   "cell_type": "code",
   "execution_count": 105,
   "metadata": {},
   "outputs": [],
   "source": [
    "import os\n",
    "import cv2\n",
    "import random\n",
    "import numpy as np\n",
    "from collections import Counter\n",
    "from sklearn.utils import shuffle\n",
    "from sklearn.preprocessing import LabelBinarizer\n",
    "from sklearn.preprocessing import MinMaxScaler\n",
    "from sklearn.model_selection import train_test_split, StratifiedKFold\n",
    "from PIL import Image\n",
    "import matplotlib.pyplot as plt\n",
    "import seaborn as sns\n",
    "import tensorflow as tf\n",
    "from tensorflow import keras\n",
    "from keras import Sequential, Model\n",
    "from keras.preprocessing.image import ImageDataGenerator\n",
    "from keras.applications.resnet50 import ResNet50, preprocess_input\n",
    "from keras.layers import Activation, Flatten, Dropout, BatchNormalization, Conv2D\n",
    "from keras.layers import AveragePooling2D, Dense, Input, Lambda, concatenate"
   ]
  },
  {
   "cell_type": "code",
   "execution_count": 119,
   "metadata": {},
   "outputs": [
    {
     "name": "stdout",
     "output_type": "stream",
     "text": [
      "62\n"
     ]
    }
   ],
   "source": [
    "# Goal: 60% train, 20% validate, 20% test -> 80% train+validate, 20% test\n",
    "\n",
    "folders = sorted(os.listdir(\"data_organized\"))\n",
    "train_val_patients = []\n",
    "test_patients = []\n",
    "test_count = 0\n",
    "random.shuffle(folders)\n",
    "\n",
    "for name in folders:\n",
    "    train_val_patients.append(name)\n",
    "    \n",
    "for name in folders:\n",
    "    _, count = name.split('+')\n",
    "    # Fill up test_patients with 62 first\n",
    "    count = int(count)\n",
    "    if test_count+count <= 62:\n",
    "        test_patients.append(name)\n",
    "        test_count += count\n",
    "        train_val_patients.remove(name)\n",
    "        if test_count == 62:\n",
    "            break\n",
    "    elif test_count+count > 62:\n",
    "        continue\n",
    "        \n",
    "print(test_count)"
   ]
  },
  {
   "cell_type": "code",
   "execution_count": 120,
   "metadata": {},
   "outputs": [
    {
     "name": "stdout",
     "output_type": "stream",
     "text": [
      "Original: indolent=197, clinsig=177\n"
     ]
    }
   ],
   "source": [
    "# Read in files from folders, store as np arrays of images (X_train) and clinsig labels (y_train)\n",
    "# clinsig TRUE = 1, FALSE = 0\n",
    "X = []\n",
    "y = []\n",
    "\n",
    "for folder in train_val_patients:\n",
    "    for filename in sorted(os.listdir(\"data_organized/{}\".format(folder))):\n",
    "        root, _ = os.path.splitext(filename)\n",
    "        patient, fid, adc_t2, size, zone, label = root.split('+')\n",
    "        img = Image.open(\"data_organized/{}/{}\".format(folder, filename))\n",
    "        img = img.resize((32, 32))\n",
    "        array_gray = np.asarray(img)\n",
    "        array = cv2.merge((array_gray,array_gray,array_gray))    \n",
    "        if adc_t2 == 'adc':\n",
    "            if label == 'TRUE':\n",
    "                X += 3 * [array]\n",
    "                y += 3 * [1]\n",
    "            else:\n",
    "                X.append(array)\n",
    "                y.append(0)\n",
    "\n",
    "# Random over-sampling to remedy imbalanced dataset\n",
    "print('Original: indolent={}, clinsig={}'.format(Counter(y)[0], Counter(y)[1]))"
   ]
  },
  {
   "cell_type": "code",
   "execution_count": 121,
   "metadata": {},
   "outputs": [
    {
     "name": "stdout",
     "output_type": "stream",
     "text": [
      "ntrain=280, nval=94\n"
     ]
    }
   ],
   "source": [
    "X, y = shuffle(X, y)\n",
    "\n",
    "# Now split this into training and validation set\n",
    "X_train, X_val, y_train, y_val = train_test_split(X, y, test_size=0.25, random_state=2)\n",
    "\n",
    "#get the length of the train and validation data\n",
    "ntrain = len(X_train)\n",
    "nval = len(X_val)\n",
    "print(\"ntrain={}, nval={}\".format(ntrain, nval))"
   ]
  },
  {
   "cell_type": "code",
   "execution_count": 122,
   "metadata": {},
   "outputs": [],
   "source": [
    "conv_base = ResNet50(weights='imagenet', include_top=False, input_shape=(32,32,3))\n",
    "# conv_base.summary()"
   ]
  },
  {
   "cell_type": "code",
   "execution_count": 123,
   "metadata": {},
   "outputs": [],
   "source": [
    "chanDim = 3\n",
    "\n",
    "model = tf.keras.Sequential()\n",
    "model.add(conv_base)\n",
    "\n",
    "model.add(Conv2D(32, (3, 3), padding=\"same\")) # kernel_initializer=init ? \n",
    "model.add(BatchNormalization(axis=chanDim))\n",
    "model.add(Activation(\"relu\"))\n",
    "\n",
    "for i in range(9):\n",
    "    model.add(Conv2D(32, (3, 3), padding=\"same\")) \n",
    "    model.add(BatchNormalization(axis=chanDim))\n",
    "    model.add(Activation(\"relu\"))\n",
    "    model.add(Conv2D(32, (3, 3), padding=\"same\"))\n",
    "    model.add(BatchNormalization(axis=chanDim))\n",
    "    \n",
    "model.add(AveragePooling2D(pool_size=(3, 3), padding=\"same\"))\n",
    "model.add(Flatten())\n",
    "model.add(Dense(512, activation='relu'))\n",
    "model.add(Dense(1, activation='sigmoid')) #Sigmoid function at the end because we have just two classes\n",
    "\n",
    "# model.summary()"
   ]
  },
  {
   "cell_type": "code",
   "execution_count": 124,
   "metadata": {},
   "outputs": [
    {
     "name": "stdout",
     "output_type": "stream",
     "text": [
      "Number of trainable weights before freezing the conv base: 292\n",
      "Number of trainable weights after freezing the conv base: 80\n"
     ]
    }
   ],
   "source": [
    "print('Number of trainable weights before freezing the conv base:', len(model.trainable_weights))\n",
    "conv_base.trainable = False\n",
    "print('Number of trainable weights after freezing the conv base:', len(model.trainable_weights))\n",
    "\n",
    "# binary_crossentropy loss because its a binary classification\n",
    "# model.compile(loss='binary_crossentropy', optimizer=tf.keras.optimizers.RMSprop(lr=2e-5), metrics=['acc'])\n",
    "model.compile(loss='binary_crossentropy', optimizer=tf.keras.optimizers.Adam(lr=3e-4), metrics=['acc'])"
   ]
  },
  {
   "cell_type": "code",
   "execution_count": 125,
   "metadata": {},
   "outputs": [],
   "source": [
    "batch_size = 64\n",
    "\n",
    "train_datagen = ImageDataGenerator(\n",
    "                    rescale=1./255,\n",
    "                    shear_range=0.2,\n",
    "                    zoom_range=[0.7,1],\n",
    "                    horizontal_flip=True,\n",
    "                    vertical_flip=True,\n",
    "                    fill_mode='nearest')\n",
    "val_datagen = ImageDataGenerator(rescale=1./255)\n",
    "\n",
    "X_train = np.array(X_train)\n",
    "y_train = np.array(y_train)\n",
    "\n",
    "X_val = np.array(X_val)\n",
    "y_val = np.array(y_val)\n",
    "\n",
    "np.asarray(y_train).astype('float32').reshape((-1,1))\n",
    "np.asarray(y_val).astype('float32').reshape((-1,1))\n",
    "\n",
    "train_generator = train_datagen.flow(X_train, y_train, batch_size=batch_size)\n",
    "val_generator = val_datagen.flow(X_val, y_val, batch_size=batch_size)"
   ]
  },
  {
   "cell_type": "code",
   "execution_count": 126,
   "metadata": {},
   "outputs": [
    {
     "name": "stdout",
     "output_type": "stream",
     "text": [
      "Epoch 1/125\n",
      "4/4 [==============================] - 3s 663ms/step - loss: 0.6988 - acc: 0.5417 - val_loss: 0.6922 - val_acc: 0.5781\n",
      "Epoch 2/125\n",
      "4/4 [==============================] - 1s 181ms/step - loss: 0.6900 - acc: 0.5833 - val_loss: 0.6929 - val_acc: 0.5156\n",
      "Epoch 3/125\n",
      "4/4 [==============================] - 1s 333ms/step - loss: 0.6891 - acc: 0.5430 - val_loss: 0.6941 - val_acc: 0.4688\n",
      "Epoch 4/125\n",
      "4/4 [==============================] - 1s 265ms/step - loss: 0.6639 - acc: 0.6019 - val_loss: 0.6928 - val_acc: 0.5156\n",
      "Epoch 5/125\n",
      "4/4 [==============================] - 1s 165ms/step - loss: 0.6813 - acc: 0.5556 - val_loss: 0.6933 - val_acc: 0.5000\n",
      "Epoch 6/125\n",
      "4/4 [==============================] - 1s 218ms/step - loss: 0.6843 - acc: 0.5509 - val_loss: 0.6939 - val_acc: 0.4844\n",
      "Epoch 7/125\n",
      "4/4 [==============================] - 1s 215ms/step - loss: 0.6874 - acc: 0.5417 - val_loss: 0.6945 - val_acc: 0.4688\n",
      "Epoch 8/125\n",
      "4/4 [==============================] - 1s 181ms/step - loss: 0.6566 - acc: 0.6065 - val_loss: 0.6928 - val_acc: 0.5156\n",
      "Epoch 9/125\n",
      "4/4 [==============================] - 1s 238ms/step - loss: 0.6806 - acc: 0.5787 - val_loss: 0.6950 - val_acc: 0.4531\n",
      "Epoch 10/125\n",
      "4/4 [==============================] - 1s 272ms/step - loss: 0.7060 - acc: 0.5509 - val_loss: 0.6933 - val_acc: 0.5000\n",
      "Epoch 11/125\n",
      "4/4 [==============================] - 1s 304ms/step - loss: 0.6807 - acc: 0.5787 - val_loss: 0.6934 - val_acc: 0.5000\n",
      "Epoch 12/125\n",
      "4/4 [==============================] - 2s 434ms/step - loss: 0.6785 - acc: 0.6016 - val_loss: 0.6927 - val_acc: 0.5156\n",
      "Epoch 13/125\n",
      "4/4 [==============================] - 1s 335ms/step - loss: 0.6693 - acc: 0.6343 - val_loss: 0.6910 - val_acc: 0.5469\n",
      "Epoch 14/125\n",
      "4/4 [==============================] - 1s 195ms/step - loss: 0.6848 - acc: 0.5463 - val_loss: 0.6945 - val_acc: 0.4844\n",
      "Epoch 15/125\n",
      "4/4 [==============================] - 1s 246ms/step - loss: 0.6524 - acc: 0.6343 - val_loss: 0.6958 - val_acc: 0.4688\n",
      "Epoch 16/125\n",
      "4/4 [==============================] - 1s 256ms/step - loss: 0.6722 - acc: 0.5926 - val_loss: 0.6915 - val_acc: 0.5312\n",
      "Epoch 17/125\n",
      "4/4 [==============================] - 1s 223ms/step - loss: 0.6621 - acc: 0.6296 - val_loss: 0.6978 - val_acc: 0.4531\n",
      "Epoch 18/125\n",
      "4/4 [==============================] - 1s 224ms/step - loss: 0.6781 - acc: 0.5556 - val_loss: 0.6956 - val_acc: 0.4844\n",
      "Epoch 19/125\n",
      "4/4 [==============================] - 1s 176ms/step - loss: 0.6760 - acc: 0.5648 - val_loss: 0.6956 - val_acc: 0.4844\n",
      "Epoch 20/125\n",
      "4/4 [==============================] - 1s 194ms/step - loss: 0.6710 - acc: 0.6157 - val_loss: 0.6927 - val_acc: 0.5156\n",
      "Epoch 21/125\n",
      "4/4 [==============================] - 1s 185ms/step - loss: 0.6701 - acc: 0.5820 - val_loss: 0.6953 - val_acc: 0.4844\n",
      "Epoch 22/125\n",
      "4/4 [==============================] - 1s 164ms/step - loss: 0.6454 - acc: 0.6435 - val_loss: 0.6914 - val_acc: 0.5312\n",
      "Epoch 23/125\n",
      "4/4 [==============================] - 1s 197ms/step - loss: 0.6355 - acc: 0.6481 - val_loss: 0.7028 - val_acc: 0.4062\n",
      "Epoch 24/125\n",
      "4/4 [==============================] - 1s 178ms/step - loss: 0.6531 - acc: 0.6204 - val_loss: 0.7009 - val_acc: 0.4375\n",
      "Epoch 25/125\n",
      "4/4 [==============================] - 1s 155ms/step - loss: 0.6739 - acc: 0.5833 - val_loss: 0.7015 - val_acc: 0.4375\n",
      "Epoch 26/125\n",
      "4/4 [==============================] - 1s 151ms/step - loss: 0.6496 - acc: 0.6157 - val_loss: 0.6894 - val_acc: 0.5469\n",
      "Epoch 27/125\n",
      "4/4 [==============================] - 1s 152ms/step - loss: 0.6344 - acc: 0.6204 - val_loss: 0.6930 - val_acc: 0.5156\n",
      "Epoch 28/125\n",
      "4/4 [==============================] - 1s 173ms/step - loss: 0.6313 - acc: 0.6094 - val_loss: 0.6877 - val_acc: 0.5625\n",
      "Epoch 29/125\n",
      "4/4 [==============================] - 1s 156ms/step - loss: 0.6622 - acc: 0.5926 - val_loss: 0.6984 - val_acc: 0.4688\n",
      "Epoch 30/125\n",
      "4/4 [==============================] - 1s 157ms/step - loss: 0.6365 - acc: 0.6296 - val_loss: 0.6821 - val_acc: 0.6094\n",
      "Epoch 31/125\n",
      "4/4 [==============================] - 1s 153ms/step - loss: 0.6499 - acc: 0.6296 - val_loss: 0.7026 - val_acc: 0.4375\n",
      "Epoch 32/125\n",
      "4/4 [==============================] - 1s 153ms/step - loss: 0.6651 - acc: 0.6065 - val_loss: 0.7005 - val_acc: 0.4531\n",
      "Epoch 33/125\n",
      "4/4 [==============================] - 1s 156ms/step - loss: 0.6404 - acc: 0.6250 - val_loss: 0.6894 - val_acc: 0.5469\n",
      "Epoch 34/125\n",
      "4/4 [==============================] - 1s 163ms/step - loss: 0.6608 - acc: 0.6204 - val_loss: 0.6876 - val_acc: 0.5625\n",
      "Epoch 35/125\n",
      "4/4 [==============================] - 1s 154ms/step - loss: 0.6684 - acc: 0.5972 - val_loss: 0.6912 - val_acc: 0.5312\n",
      "Epoch 36/125\n",
      "4/4 [==============================] - 1s 174ms/step - loss: 0.6519 - acc: 0.6367 - val_loss: 0.6897 - val_acc: 0.5469\n",
      "Epoch 37/125\n",
      "4/4 [==============================] - 1s 177ms/step - loss: 0.6689 - acc: 0.6133 - val_loss: 0.6913 - val_acc: 0.5312\n",
      "Epoch 38/125\n",
      "4/4 [==============================] - 5s 1s/step - loss: 0.6603 - acc: 0.6111 - val_loss: 0.6913 - val_acc: 0.5312\n",
      "Epoch 39/125\n",
      "4/4 [==============================] - 1s 167ms/step - loss: 0.6555 - acc: 0.6065 - val_loss: 0.6945 - val_acc: 0.5000\n",
      "Epoch 40/125\n",
      "4/4 [==============================] - 1s 163ms/step - loss: 0.6795 - acc: 0.5926 - val_loss: 0.7041 - val_acc: 0.4062\n",
      "Epoch 41/125\n",
      "4/4 [==============================] - 1s 163ms/step - loss: 0.6768 - acc: 0.5648 - val_loss: 0.6912 - val_acc: 0.5312\n",
      "Epoch 42/125\n",
      "4/4 [==============================] - 1s 176ms/step - loss: 0.6630 - acc: 0.6019 - val_loss: 0.6982 - val_acc: 0.4688\n",
      "Epoch 43/125\n",
      "4/4 [==============================] - 1s 174ms/step - loss: 0.6409 - acc: 0.6019 - val_loss: 0.6949 - val_acc: 0.5000\n",
      "Epoch 44/125\n",
      "4/4 [==============================] - 1s 153ms/step - loss: 0.6334 - acc: 0.6343 - val_loss: 0.6950 - val_acc: 0.5000\n",
      "Epoch 45/125\n",
      "4/4 [==============================] - 1s 151ms/step - loss: 0.6469 - acc: 0.5926 - val_loss: 0.6912 - val_acc: 0.5312\n",
      "Epoch 46/125\n",
      "4/4 [==============================] - 1s 176ms/step - loss: 0.6318 - acc: 0.6406 - val_loss: 0.6949 - val_acc: 0.5000\n",
      "Epoch 47/125\n",
      "4/4 [==============================] - 1s 160ms/step - loss: 0.6306 - acc: 0.6435 - val_loss: 0.6930 - val_acc: 0.5156\n",
      "Epoch 48/125\n",
      "4/4 [==============================] - 1s 159ms/step - loss: 0.6289 - acc: 0.6713 - val_loss: 0.6949 - val_acc: 0.5000\n",
      "Epoch 49/125\n",
      "4/4 [==============================] - 1s 180ms/step - loss: 0.6365 - acc: 0.6445 - val_loss: 0.6950 - val_acc: 0.5000\n",
      "Epoch 50/125\n",
      "4/4 [==============================] - 1s 178ms/step - loss: 0.5836 - acc: 0.6759 - val_loss: 0.6954 - val_acc: 0.5000\n",
      "Epoch 51/125\n",
      "4/4 [==============================] - 1s 158ms/step - loss: 0.6125 - acc: 0.6852 - val_loss: 0.7051 - val_acc: 0.4375\n",
      "Epoch 52/125\n",
      "4/4 [==============================] - 1s 156ms/step - loss: 0.6642 - acc: 0.6296 - val_loss: 0.6961 - val_acc: 0.5000\n",
      "Epoch 53/125\n",
      "4/4 [==============================] - 1s 160ms/step - loss: 0.6569 - acc: 0.6157 - val_loss: 0.7012 - val_acc: 0.4688\n",
      "Epoch 54/125\n",
      "4/4 [==============================] - 1s 154ms/step - loss: 0.6615 - acc: 0.6389 - val_loss: 0.7017 - val_acc: 0.4688\n",
      "Epoch 55/125\n",
      "4/4 [==============================] - 1s 152ms/step - loss: 0.6551 - acc: 0.6204 - val_loss: 0.6967 - val_acc: 0.5000\n",
      "Epoch 56/125\n",
      "4/4 [==============================] - 1s 178ms/step - loss: 0.6300 - acc: 0.6528 - val_loss: 0.6971 - val_acc: 0.5000\n",
      "Epoch 57/125\n",
      "4/4 [==============================] - 1s 159ms/step - loss: 0.6504 - acc: 0.6065 - val_loss: 0.7030 - val_acc: 0.4688\n",
      "Epoch 58/125\n",
      "4/4 [==============================] - 1s 177ms/step - loss: 0.6163 - acc: 0.6435 - val_loss: 0.7083 - val_acc: 0.4375\n",
      "Epoch 59/125\n",
      "4/4 [==============================] - 1s 159ms/step - loss: 0.6561 - acc: 0.5926 - val_loss: 0.6994 - val_acc: 0.4844\n",
      "Epoch 60/125\n",
      "4/4 [==============================] - 1s 176ms/step - loss: 0.6260 - acc: 0.6806 - val_loss: 0.7016 - val_acc: 0.4688\n",
      "Epoch 61/125\n",
      "4/4 [==============================] - 1s 156ms/step - loss: 0.6111 - acc: 0.6806 - val_loss: 0.6913 - val_acc: 0.5312\n",
      "Epoch 62/125\n",
      "4/4 [==============================] - 1s 154ms/step - loss: 0.5951 - acc: 0.6759 - val_loss: 0.6973 - val_acc: 0.5000\n",
      "Epoch 63/125\n"
     ]
    },
    {
     "name": "stdout",
     "output_type": "stream",
     "text": [
      "4/4 [==============================] - 1s 161ms/step - loss: 0.6109 - acc: 0.6898 - val_loss: 0.6976 - val_acc: 0.5000\n",
      "Epoch 64/125\n",
      "4/4 [==============================] - 1s 162ms/step - loss: 0.5885 - acc: 0.6852 - val_loss: 0.6855 - val_acc: 0.5625\n",
      "Epoch 65/125\n",
      "4/4 [==============================] - 1s 160ms/step - loss: 0.5918 - acc: 0.7037 - val_loss: 0.6885 - val_acc: 0.5469\n",
      "Epoch 66/125\n",
      "4/4 [==============================] - 1s 159ms/step - loss: 0.5815 - acc: 0.7130 - val_loss: 0.6920 - val_acc: 0.5312\n",
      "Epoch 67/125\n",
      "4/4 [==============================] - 1s 159ms/step - loss: 0.6157 - acc: 0.6713 - val_loss: 0.7063 - val_acc: 0.4688\n",
      "Epoch 68/125\n",
      "4/4 [==============================] - 1s 180ms/step - loss: 0.6143 - acc: 0.6641 - val_loss: 0.6964 - val_acc: 0.5156\n",
      "Epoch 69/125\n",
      "4/4 [==============================] - 1s 160ms/step - loss: 0.5861 - acc: 0.6713 - val_loss: 0.7002 - val_acc: 0.5000\n",
      "Epoch 70/125\n",
      "4/4 [==============================] - 1s 159ms/step - loss: 0.5701 - acc: 0.6667 - val_loss: 0.7031 - val_acc: 0.4844\n",
      "Epoch 71/125\n",
      "4/4 [==============================] - 1s 164ms/step - loss: 0.6110 - acc: 0.6481 - val_loss: 0.7136 - val_acc: 0.4375\n",
      "Epoch 72/125\n",
      "4/4 [==============================] - 1s 160ms/step - loss: 0.5953 - acc: 0.6667 - val_loss: 0.6881 - val_acc: 0.5469\n",
      "Epoch 73/125\n",
      "4/4 [==============================] - 1s 158ms/step - loss: 0.6031 - acc: 0.6667 - val_loss: 0.7115 - val_acc: 0.4375\n",
      "Epoch 74/125\n",
      "4/4 [==============================] - 1s 155ms/step - loss: 0.6007 - acc: 0.6852 - val_loss: 0.6944 - val_acc: 0.5156\n",
      "Epoch 75/125\n",
      "4/4 [==============================] - 1s 157ms/step - loss: 0.6004 - acc: 0.6620 - val_loss: 0.6915 - val_acc: 0.5312\n",
      "Epoch 76/125\n",
      "4/4 [==============================] - 1s 151ms/step - loss: 0.5720 - acc: 0.6806 - val_loss: 0.7101 - val_acc: 0.4531\n",
      "Epoch 77/125\n",
      "4/4 [==============================] - 1s 153ms/step - loss: 0.5859 - acc: 0.6806 - val_loss: 0.6850 - val_acc: 0.5625\n",
      "Epoch 78/125\n",
      "4/4 [==============================] - 1s 157ms/step - loss: 0.5607 - acc: 0.7315 - val_loss: 0.7001 - val_acc: 0.5000\n",
      "Epoch 79/125\n",
      "4/4 [==============================] - 1s 158ms/step - loss: 0.5569 - acc: 0.7130 - val_loss: 0.6914 - val_acc: 0.5312\n",
      "Epoch 80/125\n",
      "4/4 [==============================] - 1s 153ms/step - loss: 0.6030 - acc: 0.6296 - val_loss: 0.6863 - val_acc: 0.5469\n",
      "Epoch 81/125\n",
      "4/4 [==============================] - 1s 147ms/step - loss: 0.5486 - acc: 0.7315 - val_loss: 0.6938 - val_acc: 0.5156\n",
      "Epoch 82/125\n",
      "4/4 [==============================] - 1s 151ms/step - loss: 0.5824 - acc: 0.6852 - val_loss: 0.6822 - val_acc: 0.5469\n",
      "Epoch 83/125\n",
      "4/4 [==============================] - 1s 153ms/step - loss: 0.5801 - acc: 0.6713 - val_loss: 0.6844 - val_acc: 0.5312\n",
      "Epoch 84/125\n",
      "4/4 [==============================] - 1s 151ms/step - loss: 0.5871 - acc: 0.6991 - val_loss: 0.6917 - val_acc: 0.5156\n",
      "Epoch 85/125\n",
      "4/4 [==============================] - 1s 153ms/step - loss: 0.5619 - acc: 0.6852 - val_loss: 0.7018 - val_acc: 0.4688\n",
      "Epoch 86/125\n",
      "4/4 [==============================] - 1s 173ms/step - loss: 0.5901 - acc: 0.6797 - val_loss: 0.7109 - val_acc: 0.4375\n",
      "Epoch 87/125\n",
      "4/4 [==============================] - 1s 148ms/step - loss: 0.5595 - acc: 0.6806 - val_loss: 0.7022 - val_acc: 0.4688\n",
      "Epoch 88/125\n",
      "4/4 [==============================] - 1s 152ms/step - loss: 0.5688 - acc: 0.7176 - val_loss: 0.6836 - val_acc: 0.5469\n",
      "Epoch 89/125\n",
      "4/4 [==============================] - 1s 151ms/step - loss: 0.5410 - acc: 0.7130 - val_loss: 0.6914 - val_acc: 0.5000\n",
      "Epoch 90/125\n",
      "4/4 [==============================] - 1s 151ms/step - loss: 0.6042 - acc: 0.6343 - val_loss: 0.6924 - val_acc: 0.5000\n",
      "Epoch 91/125\n",
      "4/4 [==============================] - 1s 148ms/step - loss: 0.5640 - acc: 0.6852 - val_loss: 0.6888 - val_acc: 0.5938\n",
      "Epoch 92/125\n",
      "4/4 [==============================] - 1s 174ms/step - loss: 0.5732 - acc: 0.7037 - val_loss: 0.6924 - val_acc: 0.5781\n",
      "Epoch 93/125\n",
      "4/4 [==============================] - 1s 152ms/step - loss: 0.5568 - acc: 0.6991 - val_loss: 0.6950 - val_acc: 0.5000\n",
      "Epoch 94/125\n",
      "4/4 [==============================] - 1s 152ms/step - loss: 0.5695 - acc: 0.6620 - val_loss: 0.6896 - val_acc: 0.5625\n",
      "Epoch 95/125\n",
      "4/4 [==============================] - 1s 177ms/step - loss: 0.5815 - acc: 0.6523 - val_loss: 0.6814 - val_acc: 0.6250\n",
      "Epoch 96/125\n",
      "4/4 [==============================] - 1s 172ms/step - loss: 0.5959 - acc: 0.6389 - val_loss: 0.6985 - val_acc: 0.4531\n",
      "Epoch 97/125\n",
      "4/4 [==============================] - 1s 183ms/step - loss: 0.5642 - acc: 0.6991 - val_loss: 0.6841 - val_acc: 0.5938\n",
      "Epoch 98/125\n",
      "4/4 [==============================] - 1s 172ms/step - loss: 0.5942 - acc: 0.6719 - val_loss: 0.6739 - val_acc: 0.6250\n",
      "Epoch 99/125\n",
      "4/4 [==============================] - 1s 149ms/step - loss: 0.5890 - acc: 0.6944 - val_loss: 0.6883 - val_acc: 0.4844\n",
      "Epoch 100/125\n",
      "4/4 [==============================] - 1s 150ms/step - loss: 0.5263 - acc: 0.7130 - val_loss: 0.6976 - val_acc: 0.4844\n",
      "Epoch 101/125\n",
      "4/4 [==============================] - 1s 175ms/step - loss: 0.5546 - acc: 0.7109 - val_loss: 0.6969 - val_acc: 0.4688\n",
      "Epoch 102/125\n",
      "4/4 [==============================] - 1s 181ms/step - loss: 0.5589 - acc: 0.6680 - val_loss: 0.6825 - val_acc: 0.5469\n",
      "Epoch 103/125\n",
      "4/4 [==============================] - 1s 172ms/step - loss: 0.5272 - acc: 0.6914 - val_loss: 0.6917 - val_acc: 0.5625\n",
      "Epoch 104/125\n",
      "4/4 [==============================] - 1s 150ms/step - loss: 0.5601 - acc: 0.7083 - val_loss: 0.6788 - val_acc: 0.6094\n",
      "Epoch 105/125\n",
      "4/4 [==============================] - 1s 173ms/step - loss: 0.5808 - acc: 0.6914 - val_loss: 0.6968 - val_acc: 0.5000\n",
      "Epoch 106/125\n",
      "4/4 [==============================] - 1s 173ms/step - loss: 0.5291 - acc: 0.7037 - val_loss: 0.6768 - val_acc: 0.6719\n",
      "Epoch 107/125\n",
      "4/4 [==============================] - 1s 155ms/step - loss: 0.4823 - acc: 0.7639 - val_loss: 0.7027 - val_acc: 0.5625\n",
      "Epoch 108/125\n",
      "4/4 [==============================] - 1s 152ms/step - loss: 0.5460 - acc: 0.6806 - val_loss: 0.6782 - val_acc: 0.6094\n",
      "Epoch 109/125\n",
      "4/4 [==============================] - 1s 174ms/step - loss: 0.5534 - acc: 0.6991 - val_loss: 0.6802 - val_acc: 0.6094\n",
      "Epoch 110/125\n",
      "4/4 [==============================] - 1s 176ms/step - loss: 0.5276 - acc: 0.7305 - val_loss: 0.6797 - val_acc: 0.5938\n",
      "Epoch 111/125\n",
      "4/4 [==============================] - 1s 153ms/step - loss: 0.5070 - acc: 0.7500 - val_loss: 0.6685 - val_acc: 0.5312\n",
      "Epoch 112/125\n",
      "4/4 [==============================] - 1s 152ms/step - loss: 0.5761 - acc: 0.6713 - val_loss: 0.6973 - val_acc: 0.5000\n",
      "Epoch 113/125\n",
      "4/4 [==============================] - 1s 154ms/step - loss: 0.5458 - acc: 0.7083 - val_loss: 0.6997 - val_acc: 0.5000\n",
      "Epoch 114/125\n",
      "4/4 [==============================] - 1s 171ms/step - loss: 0.5020 - acc: 0.7870 - val_loss: 0.5970 - val_acc: 0.6562\n",
      "Epoch 115/125\n",
      "4/4 [==============================] - 1s 173ms/step - loss: 0.5340 - acc: 0.7070 - val_loss: 0.6108 - val_acc: 0.6719\n",
      "Epoch 116/125\n",
      "4/4 [==============================] - 1s 175ms/step - loss: 0.5589 - acc: 0.6914 - val_loss: 0.7103 - val_acc: 0.5156\n",
      "Epoch 117/125\n",
      "4/4 [==============================] - 1s 148ms/step - loss: 0.5330 - acc: 0.7269 - val_loss: 0.7773 - val_acc: 0.4688\n",
      "Epoch 118/125\n",
      "4/4 [==============================] - 1s 163ms/step - loss: 0.5238 - acc: 0.7130 - val_loss: 0.8215 - val_acc: 0.5469\n",
      "Epoch 119/125\n",
      "4/4 [==============================] - 1s 155ms/step - loss: 0.5103 - acc: 0.7361 - val_loss: 1.0619 - val_acc: 0.4844\n",
      "Epoch 120/125\n",
      "4/4 [==============================] - 1s 150ms/step - loss: 0.5543 - acc: 0.7176 - val_loss: 1.2232 - val_acc: 0.4688\n",
      "Epoch 121/125\n",
      "4/4 [==============================] - 1s 154ms/step - loss: 0.5155 - acc: 0.7639 - val_loss: 1.1178 - val_acc: 0.5000\n",
      "Epoch 122/125\n",
      "4/4 [==============================] - 1s 176ms/step - loss: 0.5319 - acc: 0.6758 - val_loss: 0.9917 - val_acc: 0.5312\n",
      "Epoch 123/125\n",
      "4/4 [==============================] - 1s 152ms/step - loss: 0.5360 - acc: 0.6944 - val_loss: 1.0047 - val_acc: 0.5000\n",
      "Epoch 124/125\n",
      "4/4 [==============================] - 1s 176ms/step - loss: 0.5406 - acc: 0.7188 - val_loss: 0.8353 - val_acc: 0.4688\n"
     ]
    },
    {
     "name": "stdout",
     "output_type": "stream",
     "text": [
      "Epoch 125/125\n",
      "4/4 [==============================] - 1s 153ms/step - loss: 0.5520 - acc: 0.7269 - val_loss: 1.0333 - val_acc: 0.5156\n"
     ]
    }
   ],
   "source": [
    "history = model.fit(train_generator,\n",
    "                    steps_per_epoch=ntrain//batch_size,\n",
    "                    epochs=125,\n",
    "                    validation_data=val_generator,\n",
    "                    validation_steps=nval//batch_size)"
   ]
  },
  {
   "cell_type": "code",
   "execution_count": 127,
   "metadata": {},
   "outputs": [],
   "source": [
    "model.save_weights('models/model_adc_weights.h5')\n",
    "model.save('models/model_adc_keras.h5')"
   ]
  },
  {
   "cell_type": "code",
   "execution_count": 128,
   "metadata": {},
   "outputs": [
    {
     "data": {
      "image/png": "[encoded data removed]",
      "text/plain": [
       "<Figure size 432x288 with 1 Axes>"
      ]
     },
     "metadata": {
      "needs_background": "light"
     },
     "output_type": "display_data"
    },
    {
     "data": {
      "image/png": "[encoded data removed]",
      "text/plain": [
       "<Figure size 432x288 with 1 Axes>"
      ]
     },
     "metadata": {
      "needs_background": "light"
     },
     "output_type": "display_data"
    }
   ],
   "source": [
    "# Plot validation and losss\n",
    "\n",
    "acc = history.history['acc']\n",
    "val_acc = history.history['val_acc']\n",
    "loss = history.history['loss']\n",
    "val_loss = history.history['val_loss']\n",
    "\n",
    "epochs = range(1, len(acc) + 1)\n",
    "\n",
    "#Train and validation accuracy\n",
    "plt.plot(epochs, acc, 'b', label='Training accurarcy')\n",
    "plt.plot(epochs, val_acc, 'r', label='Validation accurarcy')\n",
    "plt.title('Training and Validation accurarcy')\n",
    "plt.legend()\n",
    "\n",
    "plt.figure()\n",
    "#Train and validation loss\n",
    "plt.plot(epochs, loss, 'b', label='Training loss')\n",
    "plt.plot(epochs, val_loss, 'r', label='Validation loss')\n",
    "plt.title('Training and Validation loss')\n",
    "plt.legend()\n",
    "plt.show()"
   ]
  },
  {
   "cell_type": "code",
   "execution_count": 129,
   "metadata": {},
   "outputs": [
    {
     "data": {
      "image/png": "[encoded data removed]",
      "text/plain": [
       "<Figure size 432x288 with 1 Axes>"
      ]
     },
     "metadata": {
      "needs_background": "light"
     },
     "output_type": "display_data"
    },
    {
     "data": {
      "image/png": "[encoded data removed]",
      "text/plain": [
       "<Figure size 432x288 with 1 Axes>"
      ]
     },
     "metadata": {
      "needs_background": "light"
     },
     "output_type": "display_data"
    }
   ],
   "source": [
    "# Plot validation and losss with smoother lines\n",
    "\n",
    "def smooth_plot(points, factor=0.7):\n",
    "    smooth_pts = []\n",
    "    for point in points:\n",
    "        if smooth_pts:\n",
    "            previous = smooth_pts[-1]\n",
    "            smooth_pts.append(previous * factor + point * (1 - factor))\n",
    "        else:\n",
    "            smooth_pts.append(point)\n",
    "    return smooth_pts\n",
    "\n",
    "#Plot figure\n",
    "plt.plot(epochs, smooth_plot(acc), 'b', label='Training accurarcy')\n",
    "plt.plot(epochs, smooth_plot(val_acc), 'r', label='Validation accurarcy')\n",
    "plt.title('Training and Validation accurarcy')\n",
    "plt.legend()\n",
    "plt.show()\n",
    "\n",
    "plt.plot(epochs, smooth_plot(loss), 'b', label='Training loss')\n",
    "plt.plot(epochs, smooth_plot(val_loss), 'r', label='Validation loss')\n",
    "plt.title('Training and Validation loss')\n",
    "plt.legend()\n",
    "plt.show()"
   ]
  },
  {
   "cell_type": "code",
   "execution_count": 130,
   "metadata": {},
   "outputs": [],
   "source": [
    "#Prepare test set\n",
    "\n",
    "X_test = []\n",
    "y_test = []\n",
    "\n",
    "for folder in test_patients:\n",
    "    for filename in sorted(os.listdir(\"data_organized/{}\".format(folder))):\n",
    "        root, _ = os.path.splitext(filename)\n",
    "        patient, fid, adc_t2, size, zone, label = root.split('+')\n",
    "        if adc_t2 == 'adc':\n",
    "            if label == 'TRUE':\n",
    "                y_test.append(1)\n",
    "            else:\n",
    "                y_test.append(0)\n",
    "        img = Image.open(\"data_organized/{}/{}\".format(folder, filename))\n",
    "        img = img.resize((32, 32))\n",
    "        array_gray = np.asarray(img)\n",
    "        array = cv2.merge((array_gray,array_gray,array_gray))  \n",
    "        if adc_t2 == 'adc':\n",
    "            X_test.append(array)"
   ]
  },
  {
   "cell_type": "code",
   "execution_count": 131,
   "metadata": {},
   "outputs": [
    {
     "name": "stdout",
     "output_type": "stream",
     "text": [
      "ACCURACY: 67.74193548387096%\n",
      "FALSE POSITIVE: 25.0%\n",
      "FALSE NEGATIVE: 75.0%\n",
      "CLINICALLY SIGNIFICANT PREDICTION: 8.064516129032258%\n"
     ]
    }
   ],
   "source": [
    "x = np.array(X_test)\n",
    "y = np.array(y_test)\n",
    "total = len(x)\n",
    "test_datagen = ImageDataGenerator(rescale=1./255)\n",
    "\n",
    "predictions = 0\n",
    "correct = 0\n",
    "false_pos = 0\n",
    "false_neg = 0\n",
    "i = 0\n",
    "for batch in test_datagen.flow(x, batch_size=1):\n",
    "    pred = model.predict(batch)\n",
    "    prediction = 1 if pred > 0.5 else 0\n",
    "    actual = 1 if y[i] == 1 else 0\n",
    "    if prediction == actual:\n",
    "        correct += 1\n",
    "    else:\n",
    "        if prediction == 1 and actual == 0:\n",
    "            false_pos += 1\n",
    "        else:\n",
    "            false_neg += 1\n",
    "    predictions += prediction\n",
    "    i += 1\n",
    "    if i == total:\n",
    "        break\n",
    "    \n",
    "print('ACCURACY: {}%'.format(correct/total * 100))\n",
    "print('FALSE POSITIVE: {}%'.format(false_pos/(total-correct) * 100))\n",
    "print('FALSE NEGATIVE: {}%'.format(false_neg/(total-correct) * 100))\n",
    "print('CLINICALLY SIGNIFICANT PREDICTION: {}%'.format(predictions/total * 100))"
   ]
  },
  {
   "cell_type": "code",
   "execution_count": null,
   "metadata": {},
   "outputs": [],
   "source": []
  }
 ],
 "metadata": {
  "kernelspec": {
   "display_name": "Python 3",
   "language": "python",
   "name": "python3"
  },
  "language_info": {
   "codemirror_mode": {
    "name": "ipython",
    "version": 3
   },
   "file_extension": ".py",
   "mimetype": "text/x-python",
   "name": "python",
   "nbconvert_exporter": "python",
   "pygments_lexer": "ipython3",
   "version": "3.7.6"
  }
 },
 "nbformat": 4,
 "nbformat_minor": 4
}
